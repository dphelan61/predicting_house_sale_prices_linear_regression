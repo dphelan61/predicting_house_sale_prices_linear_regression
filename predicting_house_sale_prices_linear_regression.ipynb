{
 "cells": [
  {
   "cell_type": "markdown",
   "metadata": {
    "collapsed": true
   },
   "source": [
    "# Introduction - Predicting House Sale Prices\n",
    "\n",
    "In this project, we'll be building a linear regression model that would help us predict housing prices based on a dataset of houses from Ames, Iowa, USA from 2006 - 2010. You can find the dataset and some additional information on the dataset below:\n",
    "\n",
    "> Link to dataset:\n",
    "https://dsserver-prod-resources-1.s3.amazonaws.com/235/AmesHousing.txt\n",
    "\n",
    "> Reason data was collected: https://www.tandfonline.com/doi/abs/10.1080/10691898.2011.11889627\n",
    "\n",
    "> Information on the different columns in the dataset: https://s3.amazonaws.com/dq-content/307/data_description.txt\n",
    "\n",
    "Let's read in our dataset and get started!"
   ]
  },
  {
   "cell_type": "code",
   "execution_count": 127,
   "metadata": {
    "collapsed": true
   },
   "outputs": [],
   "source": [
    "# import our needed libraries\n",
    "import pandas as pd\n",
    "import numpy as np\n",
    "import matplotlib.pyplot as plt\n",
    "from sklearn.metrics import mean_squared_error\n",
    "from sklearn.linear_model import LinearRegression\n",
    "from sklearn.model_selection import cross_val_score, KFold\n",
    "\n",
    "# read in our dataset into a dataframe\n",
    "housing_data = pd.read_table(\"AmesHousing.tsv\")"
   ]
  },
  {
   "cell_type": "markdown",
   "metadata": {},
   "source": [
    "# Workflow\n",
    "\n",
    "We'll follow the following workflow for this project:\n",
    "- Transform our features so that we can work them into our model\n",
    "- Select our features for a model\n",
    "- Create our training and test sets and figure out which of our features give us the best model (having the lowest root mean squared error when comparing our predicted prices to the actual prices in the test set).\n",
    "\n",
    "Let's start by creating shells of these functions for each of these steps to help speed up our work. As we go along, we'll flesh them out more."
   ]
  },
  {
   "cell_type": "code",
   "execution_count": 128,
   "metadata": {
    "collapsed": true
   },
   "outputs": [],
   "source": [
    "# create our transform features function\n",
    "def transform_features(dataframe, missing_values_pct_cutoff=0.25):\n",
    "    cleaned_dataframe = dataframe.copy()\n",
    "    \n",
    "    ## Remove the features that leak information on the sale\n",
    "    cols_to_remove = [\"Sale Condition\",\"Sale Type\",\"Mo Sold\"]\n",
    "    cleaned_dataframe.drop(cols_to_remove, axis=1, inplace=True)\n",
    "    \n",
    "    ## Remove features with more than 25% of their values missing\n",
    "    total_records = cleaned_dataframe.shape[0]\n",
    "    num_of_nulls_series = cleaned_dataframe.isnull().sum()\n",
    "    columns_too_many_nulls = num_of_nulls_series[(num_of_nulls_series / total_records) > missing_values_pct_cutoff].index\n",
    "    cleaned_dataframe.drop(columns_too_many_nulls, axis=1, inplace=True)\n",
    "    \n",
    "    # Create our feature for year until remodeled\n",
    "    cleaned_dataframe[\"year_until_remodeled\"] = cleaned_dataframe[\"Year Remod/Add\"] - cleaned_dataframe[\"Year Built\"]\n",
    "    \n",
    "    # Create our feature for age of house from last remodeling\n",
    "    cleaned_dataframe[\"age_of_house_since_remodeling\"] = cleaned_dataframe[\"Yr Sold\"] - cleaned_dataframe[\"Year Remod/Add\"]\n",
    "    \n",
    "    # drop those columns we used to make our new features\n",
    "    cleaned_dataframe.drop([\"Yr Sold\",\"Year Built\",\"Year Remod/Add\"],inplace=True, axis=1)\n",
    "    \n",
    "    # drop the redundant columns and unique identifier columns that are not useful for helping us determine the price of a house\n",
    "    cleaned_dataframe.drop([\"MS SubClass\",\"Garage Yr Blt\",\"Order\",\"PID\"],inplace=True,axis=1)\n",
    "    \n",
    "    # convert our object columns to category values\n",
    "    text_cols = cleaned_dataframe.select_dtypes(include='object')\n",
    "    for col in text_cols:\n",
    "        cleaned_dataframe[col] = cleaned_dataframe[col].astype('category')\n",
    "    \n",
    "    # bring in the dummy codes\n",
    "    for col in text_cols:\n",
    "        col_dummies = pd.get_dummies(cleaned_dataframe[col])\n",
    "        cleaned_dataframe = pd.concat([cleaned_dataframe, col_dummies], axis=1)\n",
    "        del cleaned_dataframe[col]\n",
    "    \n",
    "    # logic for filling out the numeric columns that have missing data with the column's mean\n",
    "    null_series = cleaned_dataframe.isnull().sum() / dataframe.shape[0]\n",
    "    numeric_columns_with_nulls = cleaned_dataframe[null_series[null_series > 0].index].select_dtypes(include=['float','integer']).columns\n",
    "    mean_values = cleaned_dataframe[numeric_columns_with_nulls].mean()\n",
    "    cleaned_dataframe[numeric_columns_with_nulls] = cleaned_dataframe[numeric_columns_with_nulls].fillna(mean_values)\n",
    "    \n",
    "    # logic for removing some columns that are heavily correlated with each other\n",
    "    cleaned_dataframe.drop([\"TotRms AbvGrd\",\"Garage Cars\",\"Total Bsmt SF\"],axis=1,inplace=True)\n",
    "    \n",
    "    return cleaned_dataframe"
   ]
  },
  {
   "cell_type": "code",
   "execution_count": 129,
   "metadata": {
    "collapsed": false
   },
   "outputs": [],
   "source": [
    "# test our function above works\n",
    "transformed_features = transform_features(housing_data)"
   ]
  },
  {
   "cell_type": "code",
   "execution_count": 130,
   "metadata": {
    "collapsed": false
   },
   "outputs": [],
   "source": [
    "# create our select_features function\n",
    "def select_features(dataframe, corr_threshold=0.3, unique_value_threshold=5, percentage_of_values_threshold=0.95):\n",
    "    cleaned_dataframe = dataframe\n",
    "    \n",
    "    # choose the nuermical columns that meet the correlation threshold\n",
    "    ## select only the numerical columns\n",
    "    cleaned_dataframe_num = cleaned_dataframe.select_dtypes(include=['float','int'])\n",
    "    ## Create a dataframe of numerical columns and how they are correlated with each other\n",
    "    cleaned_dataframe_num_corr = cleaned_dataframe_num.corr()\n",
    "    cleaned_dataframe_num_corr = abs(cleaned_dataframe_num_corr)\n",
    "    ##  create a series of sorted correlations of the columns with SalePrice\n",
    "    sorted_corrs = cleaned_dataframe_num_corr[\"SalePrice\"].sort_values()\n",
    "    # drop those that do not fall within our threshold\n",
    "    low_corr_features = sorted_corrs[sorted_corrs<corr_threshold].index\n",
    "    cleaned_dataframe.drop(low_corr_features,axis=1,inplace=True)\n",
    "    \n",
    "    # logic to check if a categorical feature has more than a certain number of features. If so, drop the column\n",
    "    string_cols_data = cleaned_dataframe.select_dtypes(include='object')\n",
    "    unique_values = string_cols_data.nunique()\n",
    "    cols_to_drop = unique_values[unique_values>unique_value_threshold].index\n",
    "    cleaned_dataframe.drop(cols_to_drop,axis=1,inplace=True)\n",
    "    \n",
    "    # logic to check if a categorical feature is over a certain threshold of one value. If so, drop the column\n",
    "    string_cols_data = cleaned_dataframe.select_dtypes(include='object')\n",
    "    string_cols = string_cols_data.columns\n",
    "    for col in string_cols:\n",
    "        max_percentage_of_values = string_cols_data[col].value_counts(dropna=False,normalize=True).max()\n",
    "        if max_percentage_of_values >= percentage_of_values_threshold:\n",
    "            cleaned_dataframe.drop(col,axis=1,inplace=True)\n",
    "\n",
    "    return cleaned_dataframe"
   ]
  },
  {
   "cell_type": "code",
   "execution_count": 131,
   "metadata": {
    "collapsed": false
   },
   "outputs": [
    {
     "data": {
      "text/html": [
       "<div>\n",
       "<style scoped>\n",
       "    .dataframe tbody tr th:only-of-type {\n",
       "        vertical-align: middle;\n",
       "    }\n",
       "\n",
       "    .dataframe tbody tr th {\n",
       "        vertical-align: top;\n",
       "    }\n",
       "\n",
       "    .dataframe thead th {\n",
       "        text-align: right;\n",
       "    }\n",
       "</style>\n",
       "<table border=\"1\" class=\"dataframe\">\n",
       "  <thead>\n",
       "    <tr style=\"text-align: right;\">\n",
       "      <th></th>\n",
       "      <th>Lot Frontage</th>\n",
       "      <th>Overall Qual</th>\n",
       "      <th>Mas Vnr Area</th>\n",
       "      <th>BsmtFin SF 1</th>\n",
       "      <th>1st Flr SF</th>\n",
       "      <th>Gr Liv Area</th>\n",
       "      <th>Full Bath</th>\n",
       "      <th>Fireplaces</th>\n",
       "      <th>Garage Area</th>\n",
       "      <th>Wood Deck SF</th>\n",
       "      <th>...</th>\n",
       "      <th>Po</th>\n",
       "      <th>TA</th>\n",
       "      <th>Ex</th>\n",
       "      <th>Fa</th>\n",
       "      <th>Gd</th>\n",
       "      <th>Po</th>\n",
       "      <th>TA</th>\n",
       "      <th>N</th>\n",
       "      <th>P</th>\n",
       "      <th>Y</th>\n",
       "    </tr>\n",
       "  </thead>\n",
       "  <tbody>\n",
       "    <tr>\n",
       "      <th>0</th>\n",
       "      <td>141.0</td>\n",
       "      <td>6</td>\n",
       "      <td>112.0</td>\n",
       "      <td>639.0</td>\n",
       "      <td>1656</td>\n",
       "      <td>1656</td>\n",
       "      <td>1</td>\n",
       "      <td>2</td>\n",
       "      <td>528.0</td>\n",
       "      <td>210</td>\n",
       "      <td>...</td>\n",
       "      <td>0</td>\n",
       "      <td>1</td>\n",
       "      <td>0</td>\n",
       "      <td>0</td>\n",
       "      <td>0</td>\n",
       "      <td>0</td>\n",
       "      <td>1</td>\n",
       "      <td>0</td>\n",
       "      <td>1</td>\n",
       "      <td>0</td>\n",
       "    </tr>\n",
       "    <tr>\n",
       "      <th>1</th>\n",
       "      <td>80.0</td>\n",
       "      <td>5</td>\n",
       "      <td>0.0</td>\n",
       "      <td>468.0</td>\n",
       "      <td>896</td>\n",
       "      <td>896</td>\n",
       "      <td>1</td>\n",
       "      <td>0</td>\n",
       "      <td>730.0</td>\n",
       "      <td>140</td>\n",
       "      <td>...</td>\n",
       "      <td>0</td>\n",
       "      <td>1</td>\n",
       "      <td>0</td>\n",
       "      <td>0</td>\n",
       "      <td>0</td>\n",
       "      <td>0</td>\n",
       "      <td>1</td>\n",
       "      <td>0</td>\n",
       "      <td>0</td>\n",
       "      <td>1</td>\n",
       "    </tr>\n",
       "    <tr>\n",
       "      <th>2</th>\n",
       "      <td>81.0</td>\n",
       "      <td>6</td>\n",
       "      <td>108.0</td>\n",
       "      <td>923.0</td>\n",
       "      <td>1329</td>\n",
       "      <td>1329</td>\n",
       "      <td>1</td>\n",
       "      <td>0</td>\n",
       "      <td>312.0</td>\n",
       "      <td>393</td>\n",
       "      <td>...</td>\n",
       "      <td>0</td>\n",
       "      <td>1</td>\n",
       "      <td>0</td>\n",
       "      <td>0</td>\n",
       "      <td>0</td>\n",
       "      <td>0</td>\n",
       "      <td>1</td>\n",
       "      <td>0</td>\n",
       "      <td>0</td>\n",
       "      <td>1</td>\n",
       "    </tr>\n",
       "    <tr>\n",
       "      <th>3</th>\n",
       "      <td>93.0</td>\n",
       "      <td>7</td>\n",
       "      <td>0.0</td>\n",
       "      <td>1065.0</td>\n",
       "      <td>2110</td>\n",
       "      <td>2110</td>\n",
       "      <td>2</td>\n",
       "      <td>2</td>\n",
       "      <td>522.0</td>\n",
       "      <td>0</td>\n",
       "      <td>...</td>\n",
       "      <td>0</td>\n",
       "      <td>1</td>\n",
       "      <td>0</td>\n",
       "      <td>0</td>\n",
       "      <td>0</td>\n",
       "      <td>0</td>\n",
       "      <td>1</td>\n",
       "      <td>0</td>\n",
       "      <td>0</td>\n",
       "      <td>1</td>\n",
       "    </tr>\n",
       "    <tr>\n",
       "      <th>4</th>\n",
       "      <td>74.0</td>\n",
       "      <td>5</td>\n",
       "      <td>0.0</td>\n",
       "      <td>791.0</td>\n",
       "      <td>928</td>\n",
       "      <td>1629</td>\n",
       "      <td>2</td>\n",
       "      <td>1</td>\n",
       "      <td>482.0</td>\n",
       "      <td>212</td>\n",
       "      <td>...</td>\n",
       "      <td>0</td>\n",
       "      <td>1</td>\n",
       "      <td>0</td>\n",
       "      <td>0</td>\n",
       "      <td>0</td>\n",
       "      <td>0</td>\n",
       "      <td>1</td>\n",
       "      <td>0</td>\n",
       "      <td>0</td>\n",
       "      <td>1</td>\n",
       "    </tr>\n",
       "  </tbody>\n",
       "</table>\n",
       "<p>5 rows × 245 columns</p>\n",
       "</div>"
      ],
      "text/plain": [
       "   Lot Frontage  Overall Qual  Mas Vnr Area  BsmtFin SF 1  1st Flr SF  \\\n",
       "0         141.0             6         112.0         639.0        1656   \n",
       "1          80.0             5           0.0         468.0         896   \n",
       "2          81.0             6         108.0         923.0        1329   \n",
       "3          93.0             7           0.0        1065.0        2110   \n",
       "4          74.0             5           0.0         791.0         928   \n",
       "\n",
       "   Gr Liv Area  Full Bath  Fireplaces  Garage Area  Wood Deck SF ...  Po  TA  \\\n",
       "0         1656          1           2        528.0           210 ...   0   1   \n",
       "1          896          1           0        730.0           140 ...   0   1   \n",
       "2         1329          1           0        312.0           393 ...   0   1   \n",
       "3         2110          2           2        522.0             0 ...   0   1   \n",
       "4         1629          2           1        482.0           212 ...   0   1   \n",
       "\n",
       "   Ex  Fa  Gd  Po  TA  N  P  Y  \n",
       "0   0   0   0   0   1  0  1  0  \n",
       "1   0   0   0   0   1  0  0  1  \n",
       "2   0   0   0   0   1  0  0  1  \n",
       "3   0   0   0   0   1  0  0  1  \n",
       "4   0   0   0   0   1  0  0  1  \n",
       "\n",
       "[5 rows x 245 columns]"
      ]
     },
     "execution_count": 131,
     "metadata": {},
     "output_type": "execute_result"
    }
   ],
   "source": [
    "# test out our select_features function\n",
    "select_features_test = select_features(transformed_features)\n",
    "select_features_test.head()"
   ]
  },
  {
   "cell_type": "code",
   "execution_count": 132,
   "metadata": {
    "collapsed": true
   },
   "outputs": [],
   "source": [
    "# create a function for training and testing our model\n",
    "def train_and_test(dataframe, k):\n",
    "    \n",
    "    # create a copy of our dataframe to not modify the original\n",
    "    dataframe_copy = dataframe.copy()\n",
    "    \n",
    "    #use our other functions to transform the features and select them\n",
    "    transformed_dataframe = transform_features(dataframe_copy)\n",
    "    cleaned_dataframe = select_features(transformed_dataframe)\n",
    "\n",
    "    # select our features and target\n",
    "    numeric_dataframe = cleaned_dataframe.select_dtypes(include=['integer','float'])\n",
    "    features = list(numeric_dataframe.columns)\n",
    "    features.remove(\"SalePrice\")\n",
    "    target = [\"SalePrice\"]\n",
    "    \n",
    "    # if k = 0, perform holdout validation\n",
    "    if k == 0:\n",
    "        # build our linear regression model\n",
    "        lr = LinearRegression()\n",
    "        train = cleaned_dataframe[:1460]\n",
    "        test = cleaned_dataframe[1460:]\n",
    "        lr.fit(train[features],train[target])\n",
    "        test_predictions = lr.predict(test[features])\n",
    "        mse = mean_squared_error(test_predictions, test[target])\n",
    "        rmse = np.sqrt(mse)\n",
    "        \n",
    "    # if k = 1, perform a simple cross validation\n",
    "    elif k == 1:\n",
    "        # create a list for the rmse\n",
    "        rmse_list = []\n",
    "        \n",
    "        # scramble the dataset\n",
    "        dataframe.iloc[np.random.permutation(dataframe.shape[0])]\n",
    "        fold_one = cleaned_dataframe[:1460]\n",
    "        fold_two = cleaned_dataframe[1460:]\n",
    "        \n",
    "        # test one\n",
    "        lr1 = LinearRegression()\n",
    "        lr1.fit(fold_one[features],fold_one[target])\n",
    "        test_predictions = lr1.predict(fold_two[features])\n",
    "        mse_1 = mean_squared_error(test_predictions, fold_two[target])\n",
    "        rmse_1 = np.sqrt(mse_1)\n",
    "        rmse_list.append(rmse_1)\n",
    "        \n",
    "        # test two\n",
    "        lr2 = LinearRegression()\n",
    "        lr2.fit(fold_two[features],fold_two[target])\n",
    "        test_predictions = lr2.predict(fold_one[features])\n",
    "        mse_2 = mean_squared_error(test_predictions, fold_one[target])\n",
    "        rmse_2 = np.sqrt(mse_2)\n",
    "        rmse_list.append(rmse_2)\n",
    "        \n",
    "        # compute the average rmse\n",
    "        rmse = np.mean(rmse_list)\n",
    "        \n",
    "    # if k > 1, perform a k fold validation\n",
    "    if k > 1:\n",
    "        # create the kfolds\n",
    "        kf = KFold(n_splits=k, shuffle=True, random_state=1)\n",
    "        # build our linear regression model\n",
    "        lr = LinearRegression()\n",
    "        mses = cross_val_score(lr, cleaned_dataframe[features],dataframe[\"SalePrice\"],scoring='neg_mean_squared_error',cv=kf)\n",
    "        abs_mses = abs(mses)\n",
    "        rmses = abs_mses ** (1/2)\n",
    "        rmse = np.mean(rmses)\n",
    "    \n",
    "    return rmse"
   ]
  },
  {
   "cell_type": "code",
   "execution_count": 133,
   "metadata": {
    "collapsed": false
   },
   "outputs": [
    {
     "data": {
      "text/plain": [
       "28620.12693067753"
      ]
     },
     "execution_count": 133,
     "metadata": {},
     "output_type": "execute_result"
    }
   ],
   "source": [
    "test_2 = train_and_test(housing_data,k=5)\n",
    "test_2"
   ]
  },
  {
   "cell_type": "markdown",
   "metadata": {},
   "source": [
    "# Updating our transform_features function to clean and transform our features\n",
    "\n",
    "Now that we've created shells of our functions, let's fill them out more starting with the transform_features() function.\n",
    "\n",
    "For the transform_features() function, we'll remove features with many missing values. We'll set our cutoff to be 25%, so any column in our dataset with more than 25% missing values will be dropped.\n",
    "\n",
    "We also want to avoid features that \"leak\" information about the house sale such ase the year the sale happened. \"Data leakage\" in the context of machine learning is defined below with the source where I got this definition below as well:\n",
    "\n",
    "> **What is Data Leakage in Machine Learning?**\n",
    "\n",
    ">Data leakage can cause you to create overly optimistic if not completely invalid predictive models. \n",
    "\n",
    "> Data leakage is when information from outside the training dataset is used to create the model. This additional information can allow the model to learn or know something that it otherwise would not know and in turn invalidate the estimated performance of the mode being constructed.\n",
    "\n",
    "> Source: https://machinelearningmastery.com/data-leakage-machine-learning/\n",
    "\n",
    "In sum, we want our transform_features() column to do the following:\n",
    "- remove the features we don't want to use in the model, such as those with a lot of missing values or that leak information on our target.\n",
    "- transform our features into the proper format such as filling in missing values and/or making a text datatype numerical if numbers are involved among other formatting changes\n",
    "- create new features by combining other features\n",
    "\n",
    "Let's get to filling out our function now!"
   ]
  },
  {
   "cell_type": "markdown",
   "metadata": {},
   "source": [
    "# Avoiding Data Leakage\n",
    "\n",
    "To avoid data leakage in our model here, we want to avoid including columns that pertain to details around the sale. From looking at the descriptions of the different columns, the following columns pertain to the sale specifically:\n",
    "\n",
    "- SalePrice - The price the house sold for (NOTE: we're ultimately trying to predict this, so we wouldn't include this anyway in features anyway)\n",
    "- Sale Condition - The condition of the sale - this denotes how the sale happened. It doesn't give us details on the particular house before the sale was made\n",
    "- Sale Type - Type of sale - also gives details on the particular sale rather than details on the house\n",
    "- Mo Sold - The month the house was sold in\n",
    "\n",
    "\n",
    "For Yr Sold (The year the house was sold in), we'll use this  column later to help us with getting the age of the house at the time of the sale.\n",
    "\n",
    "We'll add the following logic below to our transform_features() function."
   ]
  },
  {
   "cell_type": "code",
   "execution_count": 134,
   "metadata": {
    "collapsed": false
   },
   "outputs": [
    {
     "data": {
      "text/plain": [
       "Index(['Order', 'PID', 'MS SubClass', 'MS Zoning', 'Lot Frontage', 'Lot Area',\n",
       "       'Street', 'Alley', 'Lot Shape', 'Land Contour', 'Utilities',\n",
       "       'Lot Config', 'Land Slope', 'Neighborhood', 'Condition 1',\n",
       "       'Condition 2', 'Bldg Type', 'House Style', 'Overall Qual',\n",
       "       'Overall Cond', 'Year Built', 'Year Remod/Add', 'Roof Style',\n",
       "       'Roof Matl', 'Exterior 1st', 'Exterior 2nd', 'Mas Vnr Type',\n",
       "       'Mas Vnr Area', 'Exter Qual', 'Exter Cond', 'Foundation', 'Bsmt Qual',\n",
       "       'Bsmt Cond', 'Bsmt Exposure', 'BsmtFin Type 1', 'BsmtFin SF 1',\n",
       "       'BsmtFin Type 2', 'BsmtFin SF 2', 'Bsmt Unf SF', 'Total Bsmt SF',\n",
       "       'Heating', 'Heating QC', 'Central Air', 'Electrical', '1st Flr SF',\n",
       "       '2nd Flr SF', 'Low Qual Fin SF', 'Gr Liv Area', 'Bsmt Full Bath',\n",
       "       'Bsmt Half Bath', 'Full Bath', 'Half Bath', 'Bedroom AbvGr',\n",
       "       'Kitchen AbvGr', 'Kitchen Qual', 'TotRms AbvGrd', 'Functional',\n",
       "       'Fireplaces', 'Fireplace Qu', 'Garage Type', 'Garage Yr Blt',\n",
       "       'Garage Finish', 'Garage Cars', 'Garage Area', 'Garage Qual',\n",
       "       'Garage Cond', 'Paved Drive', 'Wood Deck SF', 'Open Porch SF',\n",
       "       'Enclosed Porch', '3Ssn Porch', 'Screen Porch', 'Pool Area', 'Pool QC',\n",
       "       'Fence', 'Misc Feature', 'Misc Val', 'Yr Sold'],\n",
       "      dtype='object')"
      ]
     },
     "execution_count": 134,
     "metadata": {},
     "output_type": "execute_result"
    }
   ],
   "source": [
    "# logic for removing the columns that cause data leakage\n",
    "practice_dataset = housing_data.copy()\n",
    "cols_to_remove = [\"SalePrice\",\"Sale Condition\",\"Sale Type\",\"Mo Sold\"]\n",
    "practice_dataset = practice_dataset.drop(cols_to_remove, axis=1)\n",
    "practice_dataset.columns"
   ]
  },
  {
   "cell_type": "markdown",
   "metadata": {},
   "source": [
    "With the columns that would result in data leakage removed, let's now look at removing those columns with too many missing values."
   ]
  },
  {
   "cell_type": "code",
   "execution_count": 135,
   "metadata": {
    "collapsed": false
   },
   "outputs": [
    {
     "name": "stdout",
     "output_type": "stream",
     "text": [
      "<class 'pandas.core.frame.DataFrame'>\n",
      "RangeIndex: 2930 entries, 0 to 2929\n",
      "Data columns (total 82 columns):\n",
      "Order              2930 non-null int64\n",
      "PID                2930 non-null int64\n",
      "MS SubClass        2930 non-null int64\n",
      "MS Zoning          2930 non-null object\n",
      "Lot Frontage       2440 non-null float64\n",
      "Lot Area           2930 non-null int64\n",
      "Street             2930 non-null object\n",
      "Alley              198 non-null object\n",
      "Lot Shape          2930 non-null object\n",
      "Land Contour       2930 non-null object\n",
      "Utilities          2930 non-null object\n",
      "Lot Config         2930 non-null object\n",
      "Land Slope         2930 non-null object\n",
      "Neighborhood       2930 non-null object\n",
      "Condition 1        2930 non-null object\n",
      "Condition 2        2930 non-null object\n",
      "Bldg Type          2930 non-null object\n",
      "House Style        2930 non-null object\n",
      "Overall Qual       2930 non-null int64\n",
      "Overall Cond       2930 non-null int64\n",
      "Year Built         2930 non-null int64\n",
      "Year Remod/Add     2930 non-null int64\n",
      "Roof Style         2930 non-null object\n",
      "Roof Matl          2930 non-null object\n",
      "Exterior 1st       2930 non-null object\n",
      "Exterior 2nd       2930 non-null object\n",
      "Mas Vnr Type       2907 non-null object\n",
      "Mas Vnr Area       2907 non-null float64\n",
      "Exter Qual         2930 non-null object\n",
      "Exter Cond         2930 non-null object\n",
      "Foundation         2930 non-null object\n",
      "Bsmt Qual          2850 non-null object\n",
      "Bsmt Cond          2850 non-null object\n",
      "Bsmt Exposure      2847 non-null object\n",
      "BsmtFin Type 1     2850 non-null object\n",
      "BsmtFin SF 1       2929 non-null float64\n",
      "BsmtFin Type 2     2849 non-null object\n",
      "BsmtFin SF 2       2929 non-null float64\n",
      "Bsmt Unf SF        2929 non-null float64\n",
      "Total Bsmt SF      2929 non-null float64\n",
      "Heating            2930 non-null object\n",
      "Heating QC         2930 non-null object\n",
      "Central Air        2930 non-null object\n",
      "Electrical         2929 non-null object\n",
      "1st Flr SF         2930 non-null int64\n",
      "2nd Flr SF         2930 non-null int64\n",
      "Low Qual Fin SF    2930 non-null int64\n",
      "Gr Liv Area        2930 non-null int64\n",
      "Bsmt Full Bath     2928 non-null float64\n",
      "Bsmt Half Bath     2928 non-null float64\n",
      "Full Bath          2930 non-null int64\n",
      "Half Bath          2930 non-null int64\n",
      "Bedroom AbvGr      2930 non-null int64\n",
      "Kitchen AbvGr      2930 non-null int64\n",
      "Kitchen Qual       2930 non-null object\n",
      "TotRms AbvGrd      2930 non-null int64\n",
      "Functional         2930 non-null object\n",
      "Fireplaces         2930 non-null int64\n",
      "Fireplace Qu       1508 non-null object\n",
      "Garage Type        2773 non-null object\n",
      "Garage Yr Blt      2771 non-null float64\n",
      "Garage Finish      2771 non-null object\n",
      "Garage Cars        2929 non-null float64\n",
      "Garage Area        2929 non-null float64\n",
      "Garage Qual        2771 non-null object\n",
      "Garage Cond        2771 non-null object\n",
      "Paved Drive        2930 non-null object\n",
      "Wood Deck SF       2930 non-null int64\n",
      "Open Porch SF      2930 non-null int64\n",
      "Enclosed Porch     2930 non-null int64\n",
      "3Ssn Porch         2930 non-null int64\n",
      "Screen Porch       2930 non-null int64\n",
      "Pool Area          2930 non-null int64\n",
      "Pool QC            13 non-null object\n",
      "Fence              572 non-null object\n",
      "Misc Feature       106 non-null object\n",
      "Misc Val           2930 non-null int64\n",
      "Mo Sold            2930 non-null int64\n",
      "Yr Sold            2930 non-null int64\n",
      "Sale Type          2930 non-null object\n",
      "Sale Condition     2930 non-null object\n",
      "SalePrice          2930 non-null int64\n",
      "dtypes: float64(11), int64(28), object(43)\n",
      "memory usage: 1.8+ MB\n"
     ]
    }
   ],
   "source": [
    "# observe the missing values of our different features\n",
    "housing_data.info()"
   ]
  },
  {
   "cell_type": "code",
   "execution_count": 136,
   "metadata": {
    "collapsed": false
   },
   "outputs": [
    {
     "data": {
      "text/plain": [
       "Index(['Order', 'PID', 'MS SubClass', 'MS Zoning', 'Lot Frontage', 'Lot Area',\n",
       "       'Street', 'Lot Shape', 'Land Contour', 'Utilities', 'Lot Config',\n",
       "       'Land Slope', 'Neighborhood', 'Condition 1', 'Condition 2', 'Bldg Type',\n",
       "       'House Style', 'Overall Qual', 'Overall Cond', 'Year Built',\n",
       "       'Year Remod/Add', 'Roof Style', 'Roof Matl', 'Exterior 1st',\n",
       "       'Exterior 2nd', 'Mas Vnr Type', 'Mas Vnr Area', 'Exter Qual',\n",
       "       'Exter Cond', 'Foundation', 'Bsmt Qual', 'Bsmt Cond', 'Bsmt Exposure',\n",
       "       'BsmtFin Type 1', 'BsmtFin SF 1', 'BsmtFin Type 2', 'BsmtFin SF 2',\n",
       "       'Bsmt Unf SF', 'Total Bsmt SF', 'Heating', 'Heating QC', 'Central Air',\n",
       "       'Electrical', '1st Flr SF', '2nd Flr SF', 'Low Qual Fin SF',\n",
       "       'Gr Liv Area', 'Bsmt Full Bath', 'Bsmt Half Bath', 'Full Bath',\n",
       "       'Half Bath', 'Bedroom AbvGr', 'Kitchen AbvGr', 'Kitchen Qual',\n",
       "       'TotRms AbvGrd', 'Functional', 'Fireplaces', 'Garage Type',\n",
       "       'Garage Yr Blt', 'Garage Finish', 'Garage Cars', 'Garage Area',\n",
       "       'Garage Qual', 'Garage Cond', 'Paved Drive', 'Wood Deck SF',\n",
       "       'Open Porch SF', 'Enclosed Porch', '3Ssn Porch', 'Screen Porch',\n",
       "       'Pool Area', 'Misc Val', 'Yr Sold'],\n",
       "      dtype='object')"
      ]
     },
     "execution_count": 136,
     "metadata": {},
     "output_type": "execute_result"
    }
   ],
   "source": [
    "# develop the logic to remove the features with more than the cutoff % of its values missing\n",
    "missing_values_cutoff = 0.25\n",
    "total_records = housing_data.shape[0]\n",
    "num_of_nulls_series = housing_data.isnull().sum()\n",
    "columns_too_many_nulls = num_of_nulls_series[(num_of_nulls_series / total_records) > missing_values_cutoff].index\n",
    "\n",
    "# drop the columns that have too many nulls\n",
    "# practice_dataset = housing_data.copy()\n",
    "practice_dataset.drop(columns_too_many_nulls, axis=1, inplace=True)\n",
    "practice_dataset.columns"
   ]
  },
  {
   "cell_type": "markdown",
   "metadata": {},
   "source": [
    "# Feature Engineering - Creating features from current set of features and Dropping redundant/unneccesarry columns\n",
    "\n",
    "One feature that I think would be helpful is how long it'd been since the house had been built until it was remodeled. We can create this feature by taking the difference between Year Built and Year Remod/Add. I'd also like to know the overall age of the house at the time of the sale. We can create that feature by taking the difference between Year Remod/Add (it's the same as Year Built if it wasn't remodeled) and Yr Sold. After creating both of these features, we will drop the Year Built, Year Remod/Add, and Yr Sold columns.\n",
    "\n",
    "We also want to make sure that we don't include columns that have give us the same information, or else it'll add too much weight to that one overall feature being shown more than once. \n",
    "\n",
    "For instance, we have the MS SubClass which gives us information on how many stories the house is and how old the house is. However, we also have House Style which gives us how many stories and Year Built which tells us what year the house was built in. As a result, we can drop MS SubClass and similar features that are already better told with other features. We can also drop Garage Yr Blt as that would most likely resemble Year Built.\n",
    "\n",
    "Also, the Order and PID columns are just unique identifiers in the table. They won't help us in predicting the price as each house will just get a unique identifier if added to the list, and it could just be based on what order the data was entered into the table. As a result, we'll drop these columns as well."
   ]
  },
  {
   "cell_type": "code",
   "execution_count": 137,
   "metadata": {
    "collapsed": false
   },
   "outputs": [],
   "source": [
    "# Create our feature for year until remodeled\n",
    "practice_dataset[\"year_until_remodeled\"] = practice_dataset[\"Year Remod/Add\"] - practice_dataset[\"Year Built\"]\n",
    "\n",
    "# Create our feature for age of house from last remodeling\n",
    "practice_dataset[\"age_of_house_since_remodeling\"] = practice_dataset[\"Yr Sold\"] - practice_dataset[\"Year Remod/Add\"]\n",
    "\n",
    "# drop those columns we used to make our new features\n",
    "practice_dataset.drop([\"Yr Sold\",\"Year Built\",\"Year Remod/Add\"],inplace=True, axis=1)"
   ]
  },
  {
   "cell_type": "code",
   "execution_count": 138,
   "metadata": {
    "collapsed": false
   },
   "outputs": [],
   "source": [
    "# drop the redundant columns and the unique identifier columns\n",
    "practice_dataset.drop([\"MS SubClass\",\"Garage Yr Blt\",\"Order\",\"PID\"],inplace=True,axis=1)"
   ]
  },
  {
   "cell_type": "markdown",
   "metadata": {},
   "source": [
    "# Feature Engineering - Making Categorical Features usable\n",
    "\n",
    "Categorical features are columns that have set list of values to choose from. For instance, the feature Utilities  can have a value of AllPub (All public Utilities), NoSewr (just Electricity, Water, and Gas), NoSeWa (Just Electricity and Gas), or ELO (Electricity Only).\n",
    "\n",
    "From looking through the definitions of all of the features via the link in the first cell, I found that the following columns are categorical:\n",
    "\n",
    "- Ms Zoning\n",
    "- Street\n",
    "- Alley\n",
    "- Lot Shape\n",
    "- Land Contour\n",
    "- Utilities\n",
    "- Lot Config\n",
    "- Land Slope\n",
    "- Neighborhood\n",
    "- Condition1\n",
    "- Condition2\n",
    "- BldgType\n",
    "- House Style\n",
    "- Roof Style\n",
    "- Roof Matl\n",
    "- Exterior 1st\n",
    "- Exterior 2nd\n",
    "- Mas Vnr Type\n",
    "- Exter Qual\n",
    "- Exter Cond\n",
    "- Overall Qual (NOTE - Numerical but ordinal values. The distance between the numbers doesn't give us an idea of how much higher quality the house is)\n",
    "- Overall Cond (NOTE - see above for Overall Qual)\n",
    "- Foundation\n",
    "- Bsmt Qual\n",
    "- Bsmt Cond\n",
    "- BsmtFin Type 1\n",
    "- BsmtFin Type 2\n",
    "- Heating\n",
    "- Heating QC\n",
    "- Central Air\n",
    "- Electrical\n",
    "- Kitchen Qual\n",
    "- Functional\n",
    "- Fireplace Qu\n",
    "- Garage Type\n",
    "- Garage Finish\n",
    "- Paved Drive\n",
    "- Pool QC\n",
    "- Fence\n",
    "- Misc Feature\n",
    "\n",
    "Let's change each of these columns into a categorical code, and then we'll convert the codes into binary dummy codes so it's a 1 or 0 flag to say whether it falls in that category or not."
   ]
  },
  {
   "cell_type": "code",
   "execution_count": 139,
   "metadata": {
    "collapsed": false
   },
   "outputs": [],
   "source": [
    "# convert our object columns above to category values\n",
    "text_cols = practice_dataset.select_dtypes(include='object')\n",
    "for col in text_cols:\n",
    "    practice_dataset[col] = practice_dataset[col].astype('category')\n",
    "\n",
    "# bring in the dummy codes\n",
    "for col in text_cols:\n",
    "    col_dummies = pd.get_dummies(practice_dataset[col])\n",
    "    practice_dataset = pd.concat([practice_dataset, col_dummies], axis=1)\n",
    "    del practice_dataset[col]"
   ]
  },
  {
   "cell_type": "markdown",
   "metadata": {},
   "source": [
    "# Feature Engineering - Replacing Missing Values\n",
    "\n",
    "With our logic for removing those columns that have more than 25% of their values missing, let's fill in the values for our other columns that are missing not as many values."
   ]
  },
  {
   "cell_type": "code",
   "execution_count": 140,
   "metadata": {
    "collapsed": false
   },
   "outputs": [
    {
     "data": {
      "text/plain": [
       "Lot Frontage      0.167235\n",
       "Mas Vnr Area      0.007850\n",
       "BsmtFin SF 1      0.000341\n",
       "BsmtFin SF 2      0.000341\n",
       "Bsmt Unf SF       0.000341\n",
       "Total Bsmt SF     0.000341\n",
       "Bsmt Full Bath    0.000683\n",
       "Bsmt Half Bath    0.000683\n",
       "Garage Cars       0.000341\n",
       "Garage Area       0.000341\n",
       "dtype: float64"
      ]
     },
     "execution_count": 140,
     "metadata": {},
     "output_type": "execute_result"
    }
   ],
   "source": [
    "# For those columns that have missing values, let's see \n",
    "null_series = practice_dataset.isnull().sum() / housing_data.shape[0]\n",
    "null_series[null_series > 0]"
   ]
  },
  {
   "cell_type": "markdown",
   "metadata": {},
   "source": [
    "It looks like most of these columns with missing values have only around 5% of its values missing or much less. The only outlier is Lot Frontage having around 17% of its values missing.\n",
    "\n",
    "Let's first build out the logic to fill in the float columns with the mean of their columns."
   ]
  },
  {
   "cell_type": "code",
   "execution_count": 141,
   "metadata": {
    "collapsed": false
   },
   "outputs": [],
   "source": [
    "# logic for filling out the numeric columns that have missing data with the column's mean\n",
    "null_series = practice_dataset.isnull().sum() / housing_data.shape[0]\n",
    "numeric_columns_with_nulls = practice_dataset[null_series[null_series > 0].index].select_dtypes(include='float').columns\n",
    "mean_values = practice_dataset[numeric_columns_with_nulls].mean()\n",
    "practice_dataset[numeric_columns_with_nulls] = practice_dataset[numeric_columns_with_nulls].fillna(mean_values)"
   ]
  },
  {
   "cell_type": "markdown",
   "metadata": {},
   "source": [
    "# Selecting our Features - Modifying our select_features function - Dropping the features that are not that correlated with our target\n",
    "\n",
    "Now that we've transformed our features, let's choose which features we want to look at and modify our select_features column.\n",
    "\n",
    "We'll start by generating a correlation heatmap matrix of our numerical features in our training dataset, and we'll see which features strongly correlate with our target column of SalePrice."
   ]
  },
  {
   "cell_type": "code",
   "execution_count": 142,
   "metadata": {
    "collapsed": false
   },
   "outputs": [],
   "source": [
    "# transform our features\n",
    "cleaned_housing = transform_features(housing_data)\n",
    "\n",
    "# select only the numerical columns\n",
    "cleaned_housing_num = cleaned_housing.select_dtypes(include=['float','int'])\n",
    "\n",
    "# Create a dataframe of numerical columns and how they are correlated with each other\n",
    "cleaned_housing_num_corr = cleaned_housing_num.corr()\n",
    "cleaned_housing_num_corr = abs(cleaned_housing_num_corr)\n",
    "\n",
    "# create a series of sorted correlations of the columns with SalePrice\n",
    "sorted_corrs = cleaned_housing_num_corr[\"SalePrice\"].sort_values()\n",
    "\n",
    "# drop those that do not fall within our threshold\n",
    "corr_threshold = 0.3\n",
    "low_corr_features = sorted_corrs[sorted_corrs<0.3].index\n",
    "cleaned_housing.drop(low_corr_features,axis=1,inplace=True)"
   ]
  },
  {
   "cell_type": "markdown",
   "metadata": {},
   "source": [
    "I've added the above logic to our select features column. Now, let's check to see those numerical features that are highly correlated with each other and drop one of the columns since this would indicate that the columns provide pretty much the same amount of insight into what the target column will be."
   ]
  },
  {
   "cell_type": "code",
   "execution_count": 143,
   "metadata": {
    "collapsed": false
   },
   "outputs": [
    {
     "data": {
      "text/plain": [
       "<matplotlib.axes._subplots.AxesSubplot at 0x7f524ef85a20>"
      ]
     },
     "execution_count": 143,
     "metadata": {},
     "output_type": "execute_result"
    },
    {
     "data": {
      "image/png": "[encoded data removed]",
      "text/plain": [
       "<matplotlib.figure.Figure at 0x7f524ddcb9b0>"
      ]
     },
     "metadata": {},
     "output_type": "display_data"
    }
   ],
   "source": [
    "# create a heatmap of our correlations with SalePrice\n",
    "import seaborn as sns\n",
    "import matplotlib.pyplot as plt\n",
    "strong_corrs = sorted_corrs[sorted_corrs>=0.3]\n",
    "corrmat = cleaned_housing[strong_corrs.index]\n",
    "\n",
    "# magic for displaying matplotlib inline\n",
    "%matplotlib inline\n",
    "\n",
    "# display the heatmap\n",
    "sns.heatmap(corrmat.corr())"
   ]
  },
  {
   "cell_type": "markdown",
   "metadata": {},
   "source": [
    "## Correlation Heatmap Analysis - Dropping more features that are highly correlated with each other\n",
    "\n",
    "From our heatmap, it looks like the following fields are highly correlated with each other:\n",
    "\n",
    "- Gr Liv Area and TotRms AbvGrd - both give an idea of the  size of the above ground living area\n",
    "- Garage Area and Garage Cars - both give an idea on the size of the garage\n",
    "- Total Bsmt SF and 1st Fir SF - one gives the basement area and the other the 1st floor area, but it makes sense that the two would most likely equal each other since the first floor usually covers the whole foundation of the house, and the basement underneath probably doesn't surpass that foundation as well.\n",
    "\n",
    "Because of the correlations and reasons above, we'll remove the following columns in our transform_features function:\n",
    "- TotRms AbvGrd\n",
    "- Garage Cars\n",
    "- Total Bsmt SF"
   ]
  },
  {
   "cell_type": "code",
   "execution_count": 144,
   "metadata": {
    "collapsed": false
   },
   "outputs": [],
   "source": [
    "# logic for removing some columns that are heavily correlated with each other\n",
    "practice_dataset.drop([\"TotRms AbvGrd\",\"Garage Cars\",\"Total Bsmt SF\"],axis=1,inplace=True)"
   ]
  },
  {
   "cell_type": "markdown",
   "metadata": {},
   "source": [
    "# Revisiting our Categorical Features\n",
    "\n",
    "Though we went ahead and created a bunch of categorical features, seeing all of those dummy columns is making my head spin. Here are some things we'll consider when paring down those features:\n",
    "\n",
    "- If a categorical feature has multiple values, there'll be multiple zero columns. How about we just look at those that have five or less values? Let's see if we can make it to where we can easily modify how many unique values we want to be our cutoff.\n",
    "\n",
    "- If a column has over 95% of the same value, it is even worth using that column as a feature? We'll also weed out these features as well.\n",
    "\n",
    "Let's create the logic for both of these."
   ]
  },
  {
   "cell_type": "code",
   "execution_count": 145,
   "metadata": {
    "collapsed": false
   },
   "outputs": [],
   "source": [
    "# Check if a categorical feature has more than one feature\n",
    "unique_value_threshold = 5\n",
    "practice_dataset_2 = housing_data.copy()\n",
    "string_cols_data = practice_dataset_2.select_dtypes(include='object')\n",
    "unique_values = string_cols_data.nunique()\n",
    "cols_to_drop = unique_values[unique_values>unique_value_threshold].index\n",
    "practice_dataset_2.drop(cols_to_drop,axis=1,inplace=True)"
   ]
  },
  {
   "cell_type": "code",
   "execution_count": 146,
   "metadata": {
    "collapsed": false
   },
   "outputs": [],
   "source": [
    "# check if a categorical feature is 95% of one value. If so, \n",
    "percentage_of_values_threshold = 0.95\n",
    "practice_dataset_3 = housing_data.copy()\n",
    "string_cols_data = practice_dataset_3.select_dtypes(include='object')\n",
    "string_cols = string_cols_data.columns\n",
    "for col in string_cols:\n",
    "    max_percentage_of_values = string_cols_data[col].value_counts(dropna=False,normalize=True).max()\n",
    "    if max_percentage_of_values >= percentage_of_values_threshold:\n",
    "        practice_dataset_3.drop(col,axis=1,inplace=True)"
   ]
  },
  {
   "cell_type": "markdown",
   "metadata": {},
   "source": [
    "# train_and_test Function Update\n",
    "\n",
    "With our transform_features and select_features functions built out, let's now build out our train_and_test function to train and test our model.\n",
    "\n",
    "We have provided a \"k\" input in our train_and_test function to check how many folds we want to test with for cross validation. When 0 is put in, we'll just do a holdout validation. If greater than 0, we get a root mean squared error based on how many k-folds we put in for cross validation."
   ]
  },
  {
   "cell_type": "code",
   "execution_count": 147,
   "metadata": {
    "collapsed": false
   },
   "outputs": [],
   "source": [
    "# run our train_and_test function and see how the rmse comes out\n",
    "rmse = train_and_test(housing_data,k=5)"
   ]
  },
  {
   "cell_type": "code",
   "execution_count": 148,
   "metadata": {
    "collapsed": false
   },
   "outputs": [
    {
     "data": {
      "text/plain": [
       "180796.0600682594"
      ]
     },
     "execution_count": 148,
     "metadata": {},
     "output_type": "execute_result"
    }
   ],
   "source": [
    "# let's find the average housing price\n",
    "housing_data[\"SalePrice\"].mean()"
   ]
  },
  {
   "cell_type": "markdown",
   "metadata": {
    "collapsed": true
   },
   "source": [
    "# Conclusion\n",
    "\n",
    "In this project, we built three functions to make our lives easier when it comes to training and testing a predictive model - one function that transforms and cleans up our features, one that selects our features based on some inputted criteria, and finally a function to actually train and test the model using sci-kit learn and linear regression to give us a root mean squared error on how far off we are from our target.\n",
    "\n",
    "When looking at our Iowa housing data and using our functions to build a linear regression model to predict housing prices, we ended up with a root mean squared error of around 29000. Since the average house price is around 180,000 dollars, a window of within around 29,000 dollars is not a bad error threshold. \n",
    "\n",
    "If I'm selling a house in Iowa anytime in the near future, I'd probably consult a real estate agent, but I'd use my model to give me a decent ballpark price for my house.\n",
    "\n",
    "Thanks for reading! Until next time!"
   ]
  }
 ],
 "metadata": {
  "anaconda-cloud": {},
  "kernelspec": {
   "display_name": "Python 3",
   "language": "python",
   "name": "python3"
  },
  "language_info": {
   "codemirror_mode": {
    "name": "ipython",
    "version": 3
   },
   "file_extension": ".py",
   "mimetype": "text/x-python",
   "name": "python",
   "nbconvert_exporter": "python",
   "pygments_lexer": "ipython3",
   "version": "3.4.3"
  }
 },
 "nbformat": 4,
 "nbformat_minor": 2
}
